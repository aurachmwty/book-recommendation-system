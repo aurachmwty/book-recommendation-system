{
  "nbformat": 4,
  "nbformat_minor": 0,
  "metadata": {
    "colab": {
      "provenance": []
    },
    "kernelspec": {
      "name": "python3",
      "display_name": "Python 3"
    },
    "language_info": {
      "name": "python"
    }
  },
  "cells": [
    {
      "cell_type": "markdown",
      "source": [
        "# Sistem Rekomendasi pada Buku\n",
        "Proyek ini bertujuan untuk membangun sistem rekomendasi buku menggunakan pendekatan Collaborative Filtering dengan algoritma SVD (Singular Value Decomposition). Sistem ini dapat memberikan rekomendasi buku kepada pengguna berdasarkan pola interaksi pengguna lain yang memiliki preferensi serupa.\n",
        "\n",
        "Dataset yang digunakan berasal dari Kaggle: [Book Recommendation Dataset](https://www.kaggle.com/datasets/arashnic/book-recommendation-dataset).\n",
        "\n",
        "- **Nama:** Aura Rachmawaty\n",
        "- **Email:** mc295d5x1618@student.devacademy.id\n",
        "- **ID Dicoding:** MC295D5X1618"
      ],
      "metadata": {
        "id": "I-w1DZ5P39hz"
      }
    },
    {
      "cell_type": "markdown",
      "source": [
        "## 1. Instalasi kaggle API dan setup credentials\n",
        "Langkah pertama adalah menginstal library `kaggle` dan mengunggah file `kaggle.json` dari akun Kaggle. File ini digunakan untuk autentikasi saat mengunduh dataset langsung dari Kaggle.\n"
      ],
      "metadata": {
        "id": "4xhHlc383FUX"
      }
    },
    {
      "cell_type": "code",
      "execution_count": 18,
      "metadata": {
        "colab": {
          "base_uri": "https://localhost:8080/",
          "height": 73
        },
        "id": "8jU9nqHdxZYn",
        "outputId": "54b8a84e-66d8-4c13-e700-426b94a4f4ef"
      },
      "outputs": [
        {
          "output_type": "display_data",
          "data": {
            "text/plain": [
              "<IPython.core.display.HTML object>"
            ],
            "text/html": [
              "\n",
              "     <input type=\"file\" id=\"files-ae9f54c8-888c-4844-bc58-20208973c4fe\" name=\"files[]\" multiple disabled\n",
              "        style=\"border:none\" />\n",
              "     <output id=\"result-ae9f54c8-888c-4844-bc58-20208973c4fe\">\n",
              "      Upload widget is only available when the cell has been executed in the\n",
              "      current browser session. Please rerun this cell to enable.\n",
              "      </output>\n",
              "      <script>// Copyright 2017 Google LLC\n",
              "//\n",
              "// Licensed under the Apache License, Version 2.0 (the \"License\");\n",
              "// you may not use this file except in compliance with the License.\n",
              "// You may obtain a copy of the License at\n",
              "//\n",
              "//      http://www.apache.org/licenses/LICENSE-2.0\n",
              "//\n",
              "// Unless required by applicable law or agreed to in writing, software\n",
              "// distributed under the License is distributed on an \"AS IS\" BASIS,\n",
              "// WITHOUT WARRANTIES OR CONDITIONS OF ANY KIND, either express or implied.\n",
              "// See the License for the specific language governing permissions and\n",
              "// limitations under the License.\n",
              "\n",
              "/**\n",
              " * @fileoverview Helpers for google.colab Python module.\n",
              " */\n",
              "(function(scope) {\n",
              "function span(text, styleAttributes = {}) {\n",
              "  const element = document.createElement('span');\n",
              "  element.textContent = text;\n",
              "  for (const key of Object.keys(styleAttributes)) {\n",
              "    element.style[key] = styleAttributes[key];\n",
              "  }\n",
              "  return element;\n",
              "}\n",
              "\n",
              "// Max number of bytes which will be uploaded at a time.\n",
              "const MAX_PAYLOAD_SIZE = 100 * 1024;\n",
              "\n",
              "function _uploadFiles(inputId, outputId) {\n",
              "  const steps = uploadFilesStep(inputId, outputId);\n",
              "  const outputElement = document.getElementById(outputId);\n",
              "  // Cache steps on the outputElement to make it available for the next call\n",
              "  // to uploadFilesContinue from Python.\n",
              "  outputElement.steps = steps;\n",
              "\n",
              "  return _uploadFilesContinue(outputId);\n",
              "}\n",
              "\n",
              "// This is roughly an async generator (not supported in the browser yet),\n",
              "// where there are multiple asynchronous steps and the Python side is going\n",
              "// to poll for completion of each step.\n",
              "// This uses a Promise to block the python side on completion of each step,\n",
              "// then passes the result of the previous step as the input to the next step.\n",
              "function _uploadFilesContinue(outputId) {\n",
              "  const outputElement = document.getElementById(outputId);\n",
              "  const steps = outputElement.steps;\n",
              "\n",
              "  const next = steps.next(outputElement.lastPromiseValue);\n",
              "  return Promise.resolve(next.value.promise).then((value) => {\n",
              "    // Cache the last promise value to make it available to the next\n",
              "    // step of the generator.\n",
              "    outputElement.lastPromiseValue = value;\n",
              "    return next.value.response;\n",
              "  });\n",
              "}\n",
              "\n",
              "/**\n",
              " * Generator function which is called between each async step of the upload\n",
              " * process.\n",
              " * @param {string} inputId Element ID of the input file picker element.\n",
              " * @param {string} outputId Element ID of the output display.\n",
              " * @return {!Iterable<!Object>} Iterable of next steps.\n",
              " */\n",
              "function* uploadFilesStep(inputId, outputId) {\n",
              "  const inputElement = document.getElementById(inputId);\n",
              "  inputElement.disabled = false;\n",
              "\n",
              "  const outputElement = document.getElementById(outputId);\n",
              "  outputElement.innerHTML = '';\n",
              "\n",
              "  const pickedPromise = new Promise((resolve) => {\n",
              "    inputElement.addEventListener('change', (e) => {\n",
              "      resolve(e.target.files);\n",
              "    });\n",
              "  });\n",
              "\n",
              "  const cancel = document.createElement('button');\n",
              "  inputElement.parentElement.appendChild(cancel);\n",
              "  cancel.textContent = 'Cancel upload';\n",
              "  const cancelPromise = new Promise((resolve) => {\n",
              "    cancel.onclick = () => {\n",
              "      resolve(null);\n",
              "    };\n",
              "  });\n",
              "\n",
              "  // Wait for the user to pick the files.\n",
              "  const files = yield {\n",
              "    promise: Promise.race([pickedPromise, cancelPromise]),\n",
              "    response: {\n",
              "      action: 'starting',\n",
              "    }\n",
              "  };\n",
              "\n",
              "  cancel.remove();\n",
              "\n",
              "  // Disable the input element since further picks are not allowed.\n",
              "  inputElement.disabled = true;\n",
              "\n",
              "  if (!files) {\n",
              "    return {\n",
              "      response: {\n",
              "        action: 'complete',\n",
              "      }\n",
              "    };\n",
              "  }\n",
              "\n",
              "  for (const file of files) {\n",
              "    const li = document.createElement('li');\n",
              "    li.append(span(file.name, {fontWeight: 'bold'}));\n",
              "    li.append(span(\n",
              "        `(${file.type || 'n/a'}) - ${file.size} bytes, ` +\n",
              "        `last modified: ${\n",
              "            file.lastModifiedDate ? file.lastModifiedDate.toLocaleDateString() :\n",
              "                                    'n/a'} - `));\n",
              "    const percent = span('0% done');\n",
              "    li.appendChild(percent);\n",
              "\n",
              "    outputElement.appendChild(li);\n",
              "\n",
              "    const fileDataPromise = new Promise((resolve) => {\n",
              "      const reader = new FileReader();\n",
              "      reader.onload = (e) => {\n",
              "        resolve(e.target.result);\n",
              "      };\n",
              "      reader.readAsArrayBuffer(file);\n",
              "    });\n",
              "    // Wait for the data to be ready.\n",
              "    let fileData = yield {\n",
              "      promise: fileDataPromise,\n",
              "      response: {\n",
              "        action: 'continue',\n",
              "      }\n",
              "    };\n",
              "\n",
              "    // Use a chunked sending to avoid message size limits. See b/62115660.\n",
              "    let position = 0;\n",
              "    do {\n",
              "      const length = Math.min(fileData.byteLength - position, MAX_PAYLOAD_SIZE);\n",
              "      const chunk = new Uint8Array(fileData, position, length);\n",
              "      position += length;\n",
              "\n",
              "      const base64 = btoa(String.fromCharCode.apply(null, chunk));\n",
              "      yield {\n",
              "        response: {\n",
              "          action: 'append',\n",
              "          file: file.name,\n",
              "          data: base64,\n",
              "        },\n",
              "      };\n",
              "\n",
              "      let percentDone = fileData.byteLength === 0 ?\n",
              "          100 :\n",
              "          Math.round((position / fileData.byteLength) * 100);\n",
              "      percent.textContent = `${percentDone}% done`;\n",
              "\n",
              "    } while (position < fileData.byteLength);\n",
              "  }\n",
              "\n",
              "  // All done.\n",
              "  yield {\n",
              "    response: {\n",
              "      action: 'complete',\n",
              "    }\n",
              "  };\n",
              "}\n",
              "\n",
              "scope.google = scope.google || {};\n",
              "scope.google.colab = scope.google.colab || {};\n",
              "scope.google.colab._files = {\n",
              "  _uploadFiles,\n",
              "  _uploadFilesContinue,\n",
              "};\n",
              "})(self);\n",
              "</script> "
            ]
          },
          "metadata": {}
        },
        {
          "output_type": "stream",
          "name": "stdout",
          "text": [
            "Saving kaggle.json to kaggle (2).json\n"
          ]
        }
      ],
      "source": [
        "!pip install -q kaggle\n",
        "\n",
        "from google.colab import files\n",
        "files.upload()  # Upload file kaggle.json dari akun Kaggle\n",
        "\n",
        "!mkdir -p ~/.kaggle\n",
        "!cp kaggle.json ~/.kaggle/\n",
        "!chmod 600 ~/.kaggle/kaggle.json"
      ]
    },
    {
      "cell_type": "markdown",
      "source": [
        "## 2. Download dan ekstrak dataset\n",
        "Dataset yang digunakan adalah \"Book Recommendation Dataset\" dari Kaggle. Setelah berhasil diunduh, file ZIP akan diekstrak.\n"
      ],
      "metadata": {
        "id": "jP19mT9g3I-k"
      }
    },
    {
      "cell_type": "code",
      "source": [
        "!kaggle datasets download -d arashnic/book-recommendation-dataset\n",
        "!unzip -q book-recommendation-dataset.zip"
      ],
      "metadata": {
        "colab": {
          "base_uri": "https://localhost:8080/"
        },
        "id": "5QJgc3vjxpWB",
        "outputId": "047687de-c200-42f1-ce73-be4ca84e1826"
      },
      "execution_count": 19,
      "outputs": [
        {
          "output_type": "stream",
          "name": "stdout",
          "text": [
            "Dataset URL: https://www.kaggle.com/datasets/arashnic/book-recommendation-dataset\n",
            "License(s): CC0-1.0\n",
            "book-recommendation-dataset.zip: Skipping, found more recently modified local copy (use --force to force download)\n",
            "replace Books.csv? [y]es, [n]o, [A]ll, [N]one, [r]ename: A\n"
          ]
        }
      ]
    },
    {
      "cell_type": "markdown",
      "source": [
        "## 3. Instalasi library tambahan\n",
        "Untuk menjalankan model Collaborative Filtering, kita menggunakan library pandas, matplotlib, seaborn, `scikit-surprise` dan menyesuaikan versi `numpy` agar kompatibel.\n"
      ],
      "metadata": {
        "id": "6iMhqz7q3Ljx"
      }
    },
    {
      "cell_type": "code",
      "source": [
        "import pandas as pd\n",
        "import matplotlib.pyplot as plt\n",
        "import seaborn as sns"
      ],
      "metadata": {
        "id": "82eQrSq7x-3w"
      },
      "execution_count": 20,
      "outputs": []
    },
    {
      "cell_type": "code",
      "source": [
        "# Install\n",
        "!pip install numpy==1.23.5\n",
        "!pip install scikit-surprise --no-cache-dir\n",
        "\n",
        "# Import yang dibutuhkan\n",
        "from surprise import Dataset, Reader, SVD\n",
        "from surprise.model_selection import train_test_split\n",
        "from surprise import accuracy"
      ],
      "metadata": {
        "colab": {
          "base_uri": "https://localhost:8080/"
        },
        "id": "oeeVomnext1C",
        "outputId": "9dad518f-6369-4f97-8b9a-d45c0511481c"
      },
      "execution_count": 21,
      "outputs": [
        {
          "output_type": "stream",
          "name": "stdout",
          "text": [
            "Requirement already satisfied: numpy==1.23.5 in /usr/local/lib/python3.11/dist-packages (1.23.5)\n",
            "Requirement already satisfied: scikit-surprise in /usr/local/lib/python3.11/dist-packages (1.1.4)\n",
            "Requirement already satisfied: joblib>=1.2.0 in /usr/local/lib/python3.11/dist-packages (from scikit-surprise) (1.5.0)\n",
            "Requirement already satisfied: numpy>=1.19.5 in /usr/local/lib/python3.11/dist-packages (from scikit-surprise) (1.23.5)\n",
            "Requirement already satisfied: scipy>=1.6.0 in /usr/local/lib/python3.11/dist-packages (from scikit-surprise) (1.15.3)\n"
          ]
        }
      ]
    },
    {
      "cell_type": "markdown",
      "source": [
        "## 4. Membaca dataset\n",
        "Dataset terdiri dari tiga file utama: `Books.csv`, `Users.csv`, dan `Ratings.csv`. Dataset dibaca menggunakan pandas dan dikodekan dengan `'latin-1'` karena encoding asli dari file."
      ],
      "metadata": {
        "id": "aIrDjplW3QV-"
      }
    },
    {
      "cell_type": "code",
      "source": [
        "books = pd.read_csv('Books.csv', encoding='latin-1', on_bad_lines='skip')\n",
        "users = pd.read_csv('Users.csv', encoding='latin-1', on_bad_lines='skip')\n",
        "ratings = pd.read_csv('Ratings.csv', encoding='latin-1', on_bad_lines='skip')"
      ],
      "metadata": {
        "colab": {
          "base_uri": "https://localhost:8080/"
        },
        "id": "AjAKZPHW1ADv",
        "outputId": "7c54aa83-cdef-4307-c4bd-9b3fa31f8dfd"
      },
      "execution_count": 35,
      "outputs": [
        {
          "output_type": "stream",
          "name": "stderr",
          "text": [
            "<ipython-input-35-f6c46ab4b572>:1: DtypeWarning: Columns (3) have mixed types. Specify dtype option on import or set low_memory=False.\n",
            "  books = pd.read_csv('Books.csv', encoding='latin-1', on_bad_lines='skip')\n"
          ]
        }
      ]
    },
    {
      "cell_type": "markdown",
      "source": [
        "## 5. Informasi Awal Dataset\n",
        "\n",
        "Langkah awal dalam proses analisis data adalah memahami ukuran (dimensi) masing-masing dataset. Dengan menggunakan method `.shape`, kita dapat mengetahui jumlah baris dan kolom dari setiap file dataset yang digunakan:\n",
        "\n",
        "- **Books.csv**: berisi informasi metadata buku seperti judul, penulis, penerbit, dan tahun terbit.\n",
        "- **Users.csv**: memuat data pengguna seperti ID pengguna, lokasi, dan usia.\n",
        "- **Ratings.csv**: berisi data interaksi pengguna terhadap buku dalam bentuk rating.\n",
        "\n",
        "Mengetahui ukuran dataset membantu memahami skala data dan potensi kebutuhan pembersihan atau pengolahan lanjutan. Hal ini juga berguna untuk memperkirakan beban komputasi saat membangun model sistem rekomendasi.\n"
      ],
      "metadata": {
        "id": "4ubRqDIilpyf"
      }
    },
    {
      "cell_type": "code",
      "source": [
        "print(\"Books.csv:\", books.shape)\n",
        "print(\"Users.csv:\", users.shape)\n",
        "print(\"Ratings.csv:\", ratings.shape)"
      ],
      "metadata": {
        "colab": {
          "base_uri": "https://localhost:8080/"
        },
        "id": "mfkXyO0W1C-u",
        "outputId": "2d421b7b-a02b-4193-f8f4-10523985dbf5"
      },
      "execution_count": 24,
      "outputs": [
        {
          "output_type": "stream",
          "name": "stdout",
          "text": [
            "Books.csv: (271360, 8)\n",
            "Users.csv: (278858, 3)\n",
            "Ratings.csv: (1149780, 3)\n"
          ]
        }
      ]
    },
    {
      "cell_type": "markdown",
      "source": [
        "## 6. Filtering Rating Eksplisit\n",
        "\n",
        "Pada tahap **filter rating**, kita memfilter hanya rating yang bersifat **eksplisit**, yaitu rating dengan nilai lebih dari 0. Hal ini dilakukan karena dalam dataset ini, nilai 0 sering digunakan sebagai indikasi **tidak memberikan rating** atau **interaksi implisit** yang kurang informatif.\n",
        "\n",
        "Dengan memfokuskan hanya pada rating eksplisit, sistem rekomendasi dapat belajar dari preferensi pengguna yang benar-benar terukur. Langkah ini juga membantu meningkatkan akurasi model dan mengurangi noise dalam data.\n",
        "\n",
        "Hasil filter menunjukkan jumlah total interaksi eksplisit yang akan digunakan dalam pemodelan sistem rekomendasi."
      ],
      "metadata": {
        "id": "BEdZigKlpVF7"
      }
    },
    {
      "cell_type": "code",
      "source": [
        "ratings_filtered = ratings[ratings['Book-Rating'] > 0]\n",
        "\n",
        "print(\"Jumlah rating eksplisit:\", len(ratings_filtered))\n",
        "ratings_filtered.head()"
      ],
      "metadata": {
        "colab": {
          "base_uri": "https://localhost:8080/",
          "height": 224
        },
        "id": "MwZXQuJ1pYXG",
        "outputId": "01385f3e-1321-4b9f-c3ee-b0fb6b8ce87a"
      },
      "execution_count": 36,
      "outputs": [
        {
          "output_type": "stream",
          "name": "stdout",
          "text": [
            "Jumlah rating eksplisit: 433671\n"
          ]
        },
        {
          "output_type": "execute_result",
          "data": {
            "text/plain": [
              "   User-ID        ISBN  Book-Rating\n",
              "1   276726  0155061224            5\n",
              "3   276729  052165615X            3\n",
              "4   276729  0521795028            6\n",
              "6   276736  3257224281            8\n",
              "7   276737  0600570967            6"
            ],
            "text/html": [
              "\n",
              "  <div id=\"df-ed2261e3-7d37-4199-8a79-aa035b896a73\" class=\"colab-df-container\">\n",
              "    <div>\n",
              "<style scoped>\n",
              "    .dataframe tbody tr th:only-of-type {\n",
              "        vertical-align: middle;\n",
              "    }\n",
              "\n",
              "    .dataframe tbody tr th {\n",
              "        vertical-align: top;\n",
              "    }\n",
              "\n",
              "    .dataframe thead th {\n",
              "        text-align: right;\n",
              "    }\n",
              "</style>\n",
              "<table border=\"1\" class=\"dataframe\">\n",
              "  <thead>\n",
              "    <tr style=\"text-align: right;\">\n",
              "      <th></th>\n",
              "      <th>User-ID</th>\n",
              "      <th>ISBN</th>\n",
              "      <th>Book-Rating</th>\n",
              "    </tr>\n",
              "  </thead>\n",
              "  <tbody>\n",
              "    <tr>\n",
              "      <th>1</th>\n",
              "      <td>276726</td>\n",
              "      <td>0155061224</td>\n",
              "      <td>5</td>\n",
              "    </tr>\n",
              "    <tr>\n",
              "      <th>3</th>\n",
              "      <td>276729</td>\n",
              "      <td>052165615X</td>\n",
              "      <td>3</td>\n",
              "    </tr>\n",
              "    <tr>\n",
              "      <th>4</th>\n",
              "      <td>276729</td>\n",
              "      <td>0521795028</td>\n",
              "      <td>6</td>\n",
              "    </tr>\n",
              "    <tr>\n",
              "      <th>6</th>\n",
              "      <td>276736</td>\n",
              "      <td>3257224281</td>\n",
              "      <td>8</td>\n",
              "    </tr>\n",
              "    <tr>\n",
              "      <th>7</th>\n",
              "      <td>276737</td>\n",
              "      <td>0600570967</td>\n",
              "      <td>6</td>\n",
              "    </tr>\n",
              "  </tbody>\n",
              "</table>\n",
              "</div>\n",
              "    <div class=\"colab-df-buttons\">\n",
              "\n",
              "  <div class=\"colab-df-container\">\n",
              "    <button class=\"colab-df-convert\" onclick=\"convertToInteractive('df-ed2261e3-7d37-4199-8a79-aa035b896a73')\"\n",
              "            title=\"Convert this dataframe to an interactive table.\"\n",
              "            style=\"display:none;\">\n",
              "\n",
              "  <svg xmlns=\"http://www.w3.org/2000/svg\" height=\"24px\" viewBox=\"0 -960 960 960\">\n",
              "    <path d=\"M120-120v-720h720v720H120Zm60-500h600v-160H180v160Zm220 220h160v-160H400v160Zm0 220h160v-160H400v160ZM180-400h160v-160H180v160Zm440 0h160v-160H620v160ZM180-180h160v-160H180v160Zm440 0h160v-160H620v160Z\"/>\n",
              "  </svg>\n",
              "    </button>\n",
              "\n",
              "  <style>\n",
              "    .colab-df-container {\n",
              "      display:flex;\n",
              "      gap: 12px;\n",
              "    }\n",
              "\n",
              "    .colab-df-convert {\n",
              "      background-color: #E8F0FE;\n",
              "      border: none;\n",
              "      border-radius: 50%;\n",
              "      cursor: pointer;\n",
              "      display: none;\n",
              "      fill: #1967D2;\n",
              "      height: 32px;\n",
              "      padding: 0 0 0 0;\n",
              "      width: 32px;\n",
              "    }\n",
              "\n",
              "    .colab-df-convert:hover {\n",
              "      background-color: #E2EBFA;\n",
              "      box-shadow: 0px 1px 2px rgba(60, 64, 67, 0.3), 0px 1px 3px 1px rgba(60, 64, 67, 0.15);\n",
              "      fill: #174EA6;\n",
              "    }\n",
              "\n",
              "    .colab-df-buttons div {\n",
              "      margin-bottom: 4px;\n",
              "    }\n",
              "\n",
              "    [theme=dark] .colab-df-convert {\n",
              "      background-color: #3B4455;\n",
              "      fill: #D2E3FC;\n",
              "    }\n",
              "\n",
              "    [theme=dark] .colab-df-convert:hover {\n",
              "      background-color: #434B5C;\n",
              "      box-shadow: 0px 1px 3px 1px rgba(0, 0, 0, 0.15);\n",
              "      filter: drop-shadow(0px 1px 2px rgba(0, 0, 0, 0.3));\n",
              "      fill: #FFFFFF;\n",
              "    }\n",
              "  </style>\n",
              "\n",
              "    <script>\n",
              "      const buttonEl =\n",
              "        document.querySelector('#df-ed2261e3-7d37-4199-8a79-aa035b896a73 button.colab-df-convert');\n",
              "      buttonEl.style.display =\n",
              "        google.colab.kernel.accessAllowed ? 'block' : 'none';\n",
              "\n",
              "      async function convertToInteractive(key) {\n",
              "        const element = document.querySelector('#df-ed2261e3-7d37-4199-8a79-aa035b896a73');\n",
              "        const dataTable =\n",
              "          await google.colab.kernel.invokeFunction('convertToInteractive',\n",
              "                                                    [key], {});\n",
              "        if (!dataTable) return;\n",
              "\n",
              "        const docLinkHtml = 'Like what you see? Visit the ' +\n",
              "          '<a target=\"_blank\" href=https://colab.research.google.com/notebooks/data_table.ipynb>data table notebook</a>'\n",
              "          + ' to learn more about interactive tables.';\n",
              "        element.innerHTML = '';\n",
              "        dataTable['output_type'] = 'display_data';\n",
              "        await google.colab.output.renderOutput(dataTable, element);\n",
              "        const docLink = document.createElement('div');\n",
              "        docLink.innerHTML = docLinkHtml;\n",
              "        element.appendChild(docLink);\n",
              "      }\n",
              "    </script>\n",
              "  </div>\n",
              "\n",
              "\n",
              "    <div id=\"df-31658944-0822-47aa-bb3e-e27929e75731\">\n",
              "      <button class=\"colab-df-quickchart\" onclick=\"quickchart('df-31658944-0822-47aa-bb3e-e27929e75731')\"\n",
              "                title=\"Suggest charts\"\n",
              "                style=\"display:none;\">\n",
              "\n",
              "<svg xmlns=\"http://www.w3.org/2000/svg\" height=\"24px\"viewBox=\"0 0 24 24\"\n",
              "     width=\"24px\">\n",
              "    <g>\n",
              "        <path d=\"M19 3H5c-1.1 0-2 .9-2 2v14c0 1.1.9 2 2 2h14c1.1 0 2-.9 2-2V5c0-1.1-.9-2-2-2zM9 17H7v-7h2v7zm4 0h-2V7h2v10zm4 0h-2v-4h2v4z\"/>\n",
              "    </g>\n",
              "</svg>\n",
              "      </button>\n",
              "\n",
              "<style>\n",
              "  .colab-df-quickchart {\n",
              "      --bg-color: #E8F0FE;\n",
              "      --fill-color: #1967D2;\n",
              "      --hover-bg-color: #E2EBFA;\n",
              "      --hover-fill-color: #174EA6;\n",
              "      --disabled-fill-color: #AAA;\n",
              "      --disabled-bg-color: #DDD;\n",
              "  }\n",
              "\n",
              "  [theme=dark] .colab-df-quickchart {\n",
              "      --bg-color: #3B4455;\n",
              "      --fill-color: #D2E3FC;\n",
              "      --hover-bg-color: #434B5C;\n",
              "      --hover-fill-color: #FFFFFF;\n",
              "      --disabled-bg-color: #3B4455;\n",
              "      --disabled-fill-color: #666;\n",
              "  }\n",
              "\n",
              "  .colab-df-quickchart {\n",
              "    background-color: var(--bg-color);\n",
              "    border: none;\n",
              "    border-radius: 50%;\n",
              "    cursor: pointer;\n",
              "    display: none;\n",
              "    fill: var(--fill-color);\n",
              "    height: 32px;\n",
              "    padding: 0;\n",
              "    width: 32px;\n",
              "  }\n",
              "\n",
              "  .colab-df-quickchart:hover {\n",
              "    background-color: var(--hover-bg-color);\n",
              "    box-shadow: 0 1px 2px rgba(60, 64, 67, 0.3), 0 1px 3px 1px rgba(60, 64, 67, 0.15);\n",
              "    fill: var(--button-hover-fill-color);\n",
              "  }\n",
              "\n",
              "  .colab-df-quickchart-complete:disabled,\n",
              "  .colab-df-quickchart-complete:disabled:hover {\n",
              "    background-color: var(--disabled-bg-color);\n",
              "    fill: var(--disabled-fill-color);\n",
              "    box-shadow: none;\n",
              "  }\n",
              "\n",
              "  .colab-df-spinner {\n",
              "    border: 2px solid var(--fill-color);\n",
              "    border-color: transparent;\n",
              "    border-bottom-color: var(--fill-color);\n",
              "    animation:\n",
              "      spin 1s steps(1) infinite;\n",
              "  }\n",
              "\n",
              "  @keyframes spin {\n",
              "    0% {\n",
              "      border-color: transparent;\n",
              "      border-bottom-color: var(--fill-color);\n",
              "      border-left-color: var(--fill-color);\n",
              "    }\n",
              "    20% {\n",
              "      border-color: transparent;\n",
              "      border-left-color: var(--fill-color);\n",
              "      border-top-color: var(--fill-color);\n",
              "    }\n",
              "    30% {\n",
              "      border-color: transparent;\n",
              "      border-left-color: var(--fill-color);\n",
              "      border-top-color: var(--fill-color);\n",
              "      border-right-color: var(--fill-color);\n",
              "    }\n",
              "    40% {\n",
              "      border-color: transparent;\n",
              "      border-right-color: var(--fill-color);\n",
              "      border-top-color: var(--fill-color);\n",
              "    }\n",
              "    60% {\n",
              "      border-color: transparent;\n",
              "      border-right-color: var(--fill-color);\n",
              "    }\n",
              "    80% {\n",
              "      border-color: transparent;\n",
              "      border-right-color: var(--fill-color);\n",
              "      border-bottom-color: var(--fill-color);\n",
              "    }\n",
              "    90% {\n",
              "      border-color: transparent;\n",
              "      border-bottom-color: var(--fill-color);\n",
              "    }\n",
              "  }\n",
              "</style>\n",
              "\n",
              "      <script>\n",
              "        async function quickchart(key) {\n",
              "          const quickchartButtonEl =\n",
              "            document.querySelector('#' + key + ' button');\n",
              "          quickchartButtonEl.disabled = true;  // To prevent multiple clicks.\n",
              "          quickchartButtonEl.classList.add('colab-df-spinner');\n",
              "          try {\n",
              "            const charts = await google.colab.kernel.invokeFunction(\n",
              "                'suggestCharts', [key], {});\n",
              "          } catch (error) {\n",
              "            console.error('Error during call to suggestCharts:', error);\n",
              "          }\n",
              "          quickchartButtonEl.classList.remove('colab-df-spinner');\n",
              "          quickchartButtonEl.classList.add('colab-df-quickchart-complete');\n",
              "        }\n",
              "        (() => {\n",
              "          let quickchartButtonEl =\n",
              "            document.querySelector('#df-31658944-0822-47aa-bb3e-e27929e75731 button');\n",
              "          quickchartButtonEl.style.display =\n",
              "            google.colab.kernel.accessAllowed ? 'block' : 'none';\n",
              "        })();\n",
              "      </script>\n",
              "    </div>\n",
              "\n",
              "    </div>\n",
              "  </div>\n"
            ],
            "application/vnd.google.colaboratory.intrinsic+json": {
              "type": "dataframe",
              "variable_name": "ratings_filtered"
            }
          },
          "metadata": {},
          "execution_count": 36
        }
      ]
    },
    {
      "cell_type": "markdown",
      "source": [
        "## 7. Pembersihan data\n",
        "\n",
        "- Menghapus rating bernilai 0 karena itu adalah implicit rating.\n",
        "- Membersihkan missing values pada kolom penting (`Book-Author`, `Publisher`, `Image-URL-L`).\n",
        "- Membersihkan nilai `Age` yang tidak masuk akal (<5 atau >100).\n",
        "- Mengisi missing value pada `Age` dengan nilai median.\n"
      ],
      "metadata": {
        "id": "_s2LEWlX3T1p"
      }
    },
    {
      "cell_type": "code",
      "source": [
        "# Hapus rating 0\n",
        "ratings_filtered = ratings[ratings['Book-Rating'] > 0]\n",
        "\n",
        "print(\"Missing values in Books:\")\n",
        "print(books.isnull().sum())\n",
        "\n",
        "print(\"\\nMissing values in Users:\")\n",
        "print(users.isnull().sum())\n",
        "\n",
        "print(\"\\nMissing values in Ratings:\")\n",
        "print(ratings.isnull().sum())\n",
        "\n",
        "print(\"\\nDuplicate rows:\")\n",
        "print(\"Books:\", books.duplicated().sum())\n",
        "print(\"Users:\", users.duplicated().sum())\n",
        "print(\"Ratings:\", ratings.duplicated().sum())"
      ],
      "metadata": {
        "colab": {
          "base_uri": "https://localhost:8080/"
        },
        "id": "dS6DlMK11Gkd",
        "outputId": "cdee85d2-f177-4fd6-876d-5f7da4589371"
      },
      "execution_count": 25,
      "outputs": [
        {
          "output_type": "stream",
          "name": "stdout",
          "text": [
            "Missing values in Books:\n",
            "ISBN                   0\n",
            "Book-Title             0\n",
            "Book-Author            2\n",
            "Year-Of-Publication    0\n",
            "Publisher              2\n",
            "Image-URL-S            0\n",
            "Image-URL-M            0\n",
            "Image-URL-L            3\n",
            "dtype: int64\n",
            "\n",
            "Missing values in Users:\n",
            "User-ID          0\n",
            "Location         0\n",
            "Age         110762\n",
            "dtype: int64\n",
            "\n",
            "Missing values in Ratings:\n",
            "User-ID        0\n",
            "ISBN           0\n",
            "Book-Rating    0\n",
            "dtype: int64\n",
            "\n",
            "Duplicate rows:\n",
            "Books: 0\n",
            "Users: 0\n",
            "Ratings: 0\n"
          ]
        }
      ]
    },
    {
      "cell_type": "markdown",
      "source": [
        "## 8. Analisis dan Pembersihan Data Usia Pengguna\n",
        "\n",
        "Pada tahap ini, dilakukan eksplorasi dan pembersihan terhadap data usia pengguna untuk mengidentifikasi nilai-nilai yang tidak wajar (outlier). Kolom `Age` merupakan bagian penting dari data demografis, namun seringkali mengandung data yang tidak valid seperti usia yang terlalu kecil atau terlalu besar.\n",
        "\n",
        "Langkah-langkah yang dilakukan:\n",
        "\n",
        "1. **Statistik Deskriptif Usia**\n",
        "   - Digunakan fungsi `.describe()` untuk melihat ringkasan statistik seperti mean, min, max, dan kuartil dari data usia pengguna.\n",
        "   - Ini memberikan gambaran awal apakah terdapat nilai yang mencurigakan.\n",
        "\n",
        "2. **Visualisasi Distribusi Usia**\n",
        "   - Histogram dibuat menggunakan `seaborn.histplot()` untuk melihat distribusi usia.\n",
        "   - Visualisasi ini membantu mengidentifikasi outlier secara visual dan menunjukkan apakah distribusi usia terlihat normal.\n",
        "\n",
        "3. **Deteksi Outlier**\n",
        "   - Pengguna dengan usia kurang dari 5 tahun atau lebih dari 100 tahun dianggap sebagai outlier.\n",
        "   - Nilai-nilai ini kemungkinan merupakan kesalahan input atau data yang tidak valid, sehingga perlu ditinjau lebih lanjut atau dibersihkan.\n",
        "\n",
        "Tujuan dari langkah ini adalah untuk memastikan bahwa analisis dan model yang akan dibangun tidak terpengaruh oleh data usia yang tidak realistis."
      ],
      "metadata": {
        "id": "cgsNP78-k5qc"
      }
    },
    {
      "cell_type": "code",
      "source": [
        "# Cek nilai unik usia sebelum dibersihkan\n",
        "print(\"Statistik usia sebelum dibersihkan:\")\n",
        "print(users['Age'].describe())\n",
        "\n",
        "# Visualisasi distribusi usia\n",
        "plt.figure(figsize=(10, 5))\n",
        "sns.histplot(users['Age'], bins=50, kde=True)\n",
        "plt.title('Distribusi Usia Pengguna (Sebelum Dibersihkan)')\n",
        "plt.xlabel('Usia')\n",
        "plt.ylabel('Jumlah Pengguna')\n",
        "plt.show()\n",
        "\n",
        "# Deteksi outlier usia (kurang dari 5 atau lebih dari 100)\n",
        "outliers = users[(users['Age'] < 5) | (users['Age'] > 100)]\n",
        "print(f\"\\nJumlah pengguna dengan usia outlier: {len(outliers)}\")\n",
        "print(outliers[['User-ID', 'Age']].head())"
      ],
      "metadata": {
        "colab": {
          "base_uri": "https://localhost:8080/",
          "height": 813
        },
        "id": "eY45BLxJkyOB",
        "outputId": "4d3ce54a-844e-41f1-a869-59282654ec22"
      },
      "execution_count": 26,
      "outputs": [
        {
          "output_type": "stream",
          "name": "stdout",
          "text": [
            "Statistik usia sebelum dibersihkan:\n",
            "count    168096.000000\n",
            "mean         34.751434\n",
            "std          14.428097\n",
            "min           0.000000\n",
            "25%          24.000000\n",
            "50%          32.000000\n",
            "75%          44.000000\n",
            "max         244.000000\n",
            "Name: Age, dtype: float64\n"
          ]
        },
        {
          "output_type": "display_data",
          "data": {
            "text/plain": [
              "<Figure size 1000x500 with 1 Axes>"
            ],
            "image/png": "[encoded data removed]"
          },
          "metadata": {}
        },
        {
          "output_type": "stream",
          "name": "stdout",
          "text": [
            "\n",
            "Jumlah pengguna dengan usia outlier: 1248\n",
            "     User-ID  Age\n",
            "219      220  0.0\n",
            "469      470  0.0\n",
            "561      562  0.0\n",
            "612      613  1.0\n",
            "670      671  1.0\n"
          ]
        }
      ]
    },
    {
      "cell_type": "markdown",
      "source": [
        "## 9. Pembersihan Data pada Dataset Books dan Users\n",
        "\n",
        "Langkah ini bertujuan untuk meningkatkan kualitas data sebelum digunakan dalam proses analisis dan pemodelan. Pembersihan dilakukan dengan menghapus nilai-nilai yang hilang dan memperbaiki data yang tidak valid.\n",
        "\n",
        "#### a. Pembersihan Dataset **Books**\n",
        "- Menghapus baris yang memiliki nilai kosong (`NaN`) pada kolom-kolom penting seperti:\n",
        "  - `Book-Author` → Nama penulis buku\n",
        "  - `Publisher` → Nama penerbit\n",
        "  - `Image-URL-L` → URL gambar ukuran besar\n",
        "- Alasan: Ketiga atribut ini penting untuk keperluan informasi metadata dan visualisasi buku dalam sistem rekomendasi. Kehilangan informasi ini dapat mengganggu pengalaman pengguna.\n",
        "\n",
        "#### b. Pembersihan Dataset **Users**\n",
        "- Kolom `Age` dibersihkan dari nilai yang tidak logis:\n",
        "  - Usia di bawah 5 tahun atau di atas 100 tahun dianggap tidak valid dan diubah menjadi `None`.\n",
        "- Setelah itu, nilai `None` pada kolom usia diisi dengan **median usia pengguna**.\n",
        "- Alasan:\n",
        "  - Menjaga integritas data usia agar tetap realistis.\n",
        "  - Pengisian median digunakan karena lebih tahan terhadap outlier dibandingkan rata-rata (mean), sehingga memberikan estimasi yang lebih stabil.\n",
        "\n",
        "Pembersihan ini penting agar data yang digunakan untuk pelatihan model bebas dari noise dan representatif terhadap kondisi nyata."
      ],
      "metadata": {
        "id": "3N8QGdTLlLZM"
      }
    },
    {
      "cell_type": "code",
      "source": [
        "# Bersihkan Books\n",
        "books_cleaned = books.dropna(subset=['Book-Author', 'Publisher', 'Image-URL-L'])\n",
        "\n",
        "# Bersihkan Users\n",
        "users['Age'] = users['Age'].apply(lambda x: None if x < 5 or x > 100 else x)\n",
        "users['Age'].fillna(users['Age'].median(), inplace=True)"
      ],
      "metadata": {
        "colab": {
          "base_uri": "https://localhost:8080/"
        },
        "id": "N_6nH2FClBTr",
        "outputId": "e94f66b3-441d-4124-dfd7-8c0606e81c41"
      },
      "execution_count": 27,
      "outputs": [
        {
          "output_type": "stream",
          "name": "stderr",
          "text": [
            "<ipython-input-27-2150c39b7057>:6: FutureWarning: A value is trying to be set on a copy of a DataFrame or Series through chained assignment using an inplace method.\n",
            "The behavior will change in pandas 3.0. This inplace method will never work because the intermediate object on which we are setting values always behaves as a copy.\n",
            "\n",
            "For example, when doing 'df[col].method(value, inplace=True)', try using 'df.method({col: value}, inplace=True)' or df[col] = df[col].method(value) instead, to perform the operation inplace on the original object.\n",
            "\n",
            "\n",
            "  users['Age'].fillna(users['Age'].median(), inplace=True)\n"
          ]
        }
      ]
    },
    {
      "cell_type": "markdown",
      "source": [
        "## 10. Pemeriksaan data hilang dan duplikat\n",
        "Langkah ini untuk mengetahui sejauh mana kualitas data, dengan memeriksa nilai yang hilang dan baris yang duplikat di setiap dataset.\n",
        "\n",
        "terlihat bahwa data sudah aman, tidak ada missing value ataupun duplikat lagi.\n"
      ],
      "metadata": {
        "id": "IprPPO6e3YgE"
      }
    },
    {
      "cell_type": "code",
      "source": [
        "print(\"Missing values setelah pembersihan:\")\n",
        "print(books_cleaned.isnull().sum())\n",
        "\n",
        "print(\"\\nMissing values in Users:\")\n",
        "print(users.isnull().sum())\n",
        "\n",
        "print(\"\\nMissing values in Ratings:\")\n",
        "print(ratings.isnull().sum())"
      ],
      "metadata": {
        "colab": {
          "base_uri": "https://localhost:8080/"
        },
        "id": "bJVVIYfp1L5j",
        "outputId": "79253e04-b736-4372-dd6e-89c24f3e9866"
      },
      "execution_count": 28,
      "outputs": [
        {
          "output_type": "stream",
          "name": "stdout",
          "text": [
            "Missing values setelah pembersihan:\n",
            "ISBN                   0\n",
            "Book-Title             0\n",
            "Book-Author            0\n",
            "Year-Of-Publication    0\n",
            "Publisher              0\n",
            "Image-URL-S            0\n",
            "Image-URL-M            0\n",
            "Image-URL-L            0\n",
            "dtype: int64\n",
            "\n",
            "Missing values in Users:\n",
            "User-ID     0\n",
            "Location    0\n",
            "Age         0\n",
            "dtype: int64\n",
            "\n",
            "Missing values in Ratings:\n",
            "User-ID        0\n",
            "ISBN           0\n",
            "Book-Rating    0\n",
            "dtype: int64\n"
          ]
        }
      ]
    },
    {
      "cell_type": "markdown",
      "source": [
        "## 11. Menggabungkan ratings dengan buku\n",
        "Gabungkan data `ratings_filtered` dengan data `books_cleaned` berdasarkan `ISBN` untuk mendapatkan informasi buku yang telah diberi rating.\n"
      ],
      "metadata": {
        "id": "hhMTSU_E3bNa"
      }
    },
    {
      "cell_type": "code",
      "source": [
        "# Gabungkan Ratings dengan Books\n",
        "ratings_merged = pd.merge(ratings_filtered, books_cleaned, on='ISBN')"
      ],
      "metadata": {
        "id": "EJGlbLbF1Rmi"
      },
      "execution_count": 29,
      "outputs": []
    },
    {
      "cell_type": "markdown",
      "source": [
        "## 12. Membangun model Collaborative Filtering (CF) dengan SVD\n",
        "Menggunakan library `surprise`, kita membuat objek `Reader`, mempersiapkan dataset, melakukan split train-test, dan melatih model SVD (Singular Value Decomposition).\n"
      ],
      "metadata": {
        "id": "DihCa2an3dGA"
      }
    },
    {
      "cell_type": "code",
      "source": [
        "# Gunakan reader dari surprise\n",
        "reader = Reader(rating_scale=(1, 10))\n",
        "data = Dataset.load_from_df(ratings_merged[['User-ID', 'ISBN', 'Book-Rating']], reader)\n",
        "\n",
        "# Split train dan test\n",
        "trainset, testset = train_test_split(data, test_size=0.2, random_state=42)\n",
        "\n",
        "# Training model\n",
        "model = SVD()\n",
        "model.fit(trainset)"
      ],
      "metadata": {
        "colab": {
          "base_uri": "https://localhost:8080/"
        },
        "id": "TMcOB3C81cGI",
        "outputId": "6a858e5c-8dc2-4d80-c29b-0375164113ef"
      },
      "execution_count": 30,
      "outputs": [
        {
          "output_type": "execute_result",
          "data": {
            "text/plain": [
              "<surprise.prediction_algorithms.matrix_factorization.SVD at 0x7f6318558210>"
            ]
          },
          "metadata": {},
          "execution_count": 30
        }
      ]
    },
    {
      "cell_type": "markdown",
      "source": [
        "## 13. Evaluasi model\n",
        "Model dievaluasi menggunakan metrik RMSE (Root Mean Squared Error) dari prediksi terhadap test set.\n"
      ],
      "metadata": {
        "id": "ge8E3OXO3e1s"
      }
    },
    {
      "cell_type": "code",
      "source": [
        "# Evaluasi model\n",
        "predictions = model.test(testset)\n",
        "rmse = accuracy.rmse(predictions)"
      ],
      "metadata": {
        "colab": {
          "base_uri": "https://localhost:8080/"
        },
        "id": "MtG7s6NU3rhT",
        "outputId": "ef763602-d557-4460-ed71-0b72a2b9cbaa"
      },
      "execution_count": 31,
      "outputs": [
        {
          "output_type": "stream",
          "name": "stdout",
          "text": [
            "RMSE: 1.6343\n"
          ]
        }
      ]
    },
    {
      "cell_type": "markdown",
      "source": [
        "## 14. Fungsi rekomendasi berdasarkan Collaborative Filtering\n",
        "Fungsi `recommend_books_cf` akan memberikan rekomendasi buku untuk user tertentu berdasarkan prediksi rating tertinggi dari model SVD untuk buku-buku yang belum dirating.\n"
      ],
      "metadata": {
        "id": "6n09bKUy3vO3"
      }
    },
    {
      "cell_type": "code",
      "source": [
        "def recommend_books_cf(user_id, num_recommendations=5):\n",
        "    # Cari ISBN yang belum pernah dirating user tersebut\n",
        "    rated_books = ratings_filtered[ratings_filtered['User-ID'] == user_id]['ISBN']\n",
        "    unrated_books = books_cleaned[~books_cleaned['ISBN'].isin(rated_books)]\n",
        "\n",
        "    # Prediksi rating untuk buku-buku tersebut\n",
        "    predictions = []\n",
        "    for _, row in unrated_books.iterrows():\n",
        "        try:\n",
        "            est = model.predict(user_id, row['ISBN']).est\n",
        "            predictions.append((row['Book-Title'], row['Book-Author'], est))\n",
        "        except:\n",
        "            continue\n",
        "\n",
        "    top_predictions = sorted(predictions, key=lambda x: x[2], reverse=True)[:num_recommendations]\n",
        "\n",
        "    print(f\"Rekomendasi untuk User-ID: {user_id}\\n\")\n",
        "    return pd.DataFrame(top_predictions, columns=['Book-Title', 'Book-Author', 'Predicted Rating'])"
      ],
      "metadata": {
        "id": "ZjGpeXN21fLe"
      },
      "execution_count": 32,
      "outputs": []
    },
    {
      "cell_type": "markdown",
      "source": [
        "## 15. Menentukan User Sample dan Menampilkan Rekomendasi Buku\n",
        "\n",
        "Pada tahap ini, kita memilih **User-ID** dari dataset `ratings_filtered` yang telah difilter sebelumnya, kemudian menampilkan rekomendasi buku untuk pengguna tersebut menggunakan metode **Collaborative Filtering**.\n"
      ],
      "metadata": {
        "id": "kkJbm-YL3xkC"
      }
    },
    {
      "cell_type": "code",
      "source": [
        "user_sample = ratings_filtered['User-ID'].sample(1).values[0]\n",
        "recommend_books_cf(user_sample)"
      ],
      "metadata": {
        "colab": {
          "base_uri": "https://localhost:8080/",
          "height": 242
        },
        "id": "g2V-GSke1jjD",
        "outputId": "34f497ba-8fa7-46af-ccd5-c4e30dfd1783"
      },
      "execution_count": 33,
      "outputs": [
        {
          "output_type": "stream",
          "name": "stdout",
          "text": [
            "Rekomendasi untuk User-ID: 84038\n",
            "\n"
          ]
        },
        {
          "output_type": "execute_result",
          "data": {
            "text/plain": [
              "                                          Book-Title     Book-Author  \\\n",
              "0       My Sister's Keeper : A Novel (Picoult, Jodi)    Jodi Picoult   \n",
              "1  Harry Potter and the Chamber of Secrets Postca...   J. K. Rowling   \n",
              "2                       Dilbert: A Book of Postcards     Scott Adams   \n",
              "3       Wolves of the Calla (The Dark Tower, Book 5)    Stephen King   \n",
              "4                                      Lonesome Dove  Larry McMurtry   \n",
              "\n",
              "   Predicted Rating  \n",
              "0          9.201056  \n",
              "1          9.127904  \n",
              "2          9.114887  \n",
              "3          9.092526  \n",
              "4          9.087445  "
            ],
            "text/html": [
              "\n",
              "  <div id=\"df-32125651-868e-4c97-b7fc-a2b845836ea4\" class=\"colab-df-container\">\n",
              "    <div>\n",
              "<style scoped>\n",
              "    .dataframe tbody tr th:only-of-type {\n",
              "        vertical-align: middle;\n",
              "    }\n",
              "\n",
              "    .dataframe tbody tr th {\n",
              "        vertical-align: top;\n",
              "    }\n",
              "\n",
              "    .dataframe thead th {\n",
              "        text-align: right;\n",
              "    }\n",
              "</style>\n",
              "<table border=\"1\" class=\"dataframe\">\n",
              "  <thead>\n",
              "    <tr style=\"text-align: right;\">\n",
              "      <th></th>\n",
              "      <th>Book-Title</th>\n",
              "      <th>Book-Author</th>\n",
              "      <th>Predicted Rating</th>\n",
              "    </tr>\n",
              "  </thead>\n",
              "  <tbody>\n",
              "    <tr>\n",
              "      <th>0</th>\n",
              "      <td>My Sister's Keeper : A Novel (Picoult, Jodi)</td>\n",
              "      <td>Jodi Picoult</td>\n",
              "      <td>9.201056</td>\n",
              "    </tr>\n",
              "    <tr>\n",
              "      <th>1</th>\n",
              "      <td>Harry Potter and the Chamber of Secrets Postca...</td>\n",
              "      <td>J. K. Rowling</td>\n",
              "      <td>9.127904</td>\n",
              "    </tr>\n",
              "    <tr>\n",
              "      <th>2</th>\n",
              "      <td>Dilbert: A Book of Postcards</td>\n",
              "      <td>Scott Adams</td>\n",
              "      <td>9.114887</td>\n",
              "    </tr>\n",
              "    <tr>\n",
              "      <th>3</th>\n",
              "      <td>Wolves of the Calla (The Dark Tower, Book 5)</td>\n",
              "      <td>Stephen King</td>\n",
              "      <td>9.092526</td>\n",
              "    </tr>\n",
              "    <tr>\n",
              "      <th>4</th>\n",
              "      <td>Lonesome Dove</td>\n",
              "      <td>Larry McMurtry</td>\n",
              "      <td>9.087445</td>\n",
              "    </tr>\n",
              "  </tbody>\n",
              "</table>\n",
              "</div>\n",
              "    <div class=\"colab-df-buttons\">\n",
              "\n",
              "  <div class=\"colab-df-container\">\n",
              "    <button class=\"colab-df-convert\" onclick=\"convertToInteractive('df-32125651-868e-4c97-b7fc-a2b845836ea4')\"\n",
              "            title=\"Convert this dataframe to an interactive table.\"\n",
              "            style=\"display:none;\">\n",
              "\n",
              "  <svg xmlns=\"http://www.w3.org/2000/svg\" height=\"24px\" viewBox=\"0 -960 960 960\">\n",
              "    <path d=\"M120-120v-720h720v720H120Zm60-500h600v-160H180v160Zm220 220h160v-160H400v160Zm0 220h160v-160H400v160ZM180-400h160v-160H180v160Zm440 0h160v-160H620v160ZM180-180h160v-160H180v160Zm440 0h160v-160H620v160Z\"/>\n",
              "  </svg>\n",
              "    </button>\n",
              "\n",
              "  <style>\n",
              "    .colab-df-container {\n",
              "      display:flex;\n",
              "      gap: 12px;\n",
              "    }\n",
              "\n",
              "    .colab-df-convert {\n",
              "      background-color: #E8F0FE;\n",
              "      border: none;\n",
              "      border-radius: 50%;\n",
              "      cursor: pointer;\n",
              "      display: none;\n",
              "      fill: #1967D2;\n",
              "      height: 32px;\n",
              "      padding: 0 0 0 0;\n",
              "      width: 32px;\n",
              "    }\n",
              "\n",
              "    .colab-df-convert:hover {\n",
              "      background-color: #E2EBFA;\n",
              "      box-shadow: 0px 1px 2px rgba(60, 64, 67, 0.3), 0px 1px 3px 1px rgba(60, 64, 67, 0.15);\n",
              "      fill: #174EA6;\n",
              "    }\n",
              "\n",
              "    .colab-df-buttons div {\n",
              "      margin-bottom: 4px;\n",
              "    }\n",
              "\n",
              "    [theme=dark] .colab-df-convert {\n",
              "      background-color: #3B4455;\n",
              "      fill: #D2E3FC;\n",
              "    }\n",
              "\n",
              "    [theme=dark] .colab-df-convert:hover {\n",
              "      background-color: #434B5C;\n",
              "      box-shadow: 0px 1px 3px 1px rgba(0, 0, 0, 0.15);\n",
              "      filter: drop-shadow(0px 1px 2px rgba(0, 0, 0, 0.3));\n",
              "      fill: #FFFFFF;\n",
              "    }\n",
              "  </style>\n",
              "\n",
              "    <script>\n",
              "      const buttonEl =\n",
              "        document.querySelector('#df-32125651-868e-4c97-b7fc-a2b845836ea4 button.colab-df-convert');\n",
              "      buttonEl.style.display =\n",
              "        google.colab.kernel.accessAllowed ? 'block' : 'none';\n",
              "\n",
              "      async function convertToInteractive(key) {\n",
              "        const element = document.querySelector('#df-32125651-868e-4c97-b7fc-a2b845836ea4');\n",
              "        const dataTable =\n",
              "          await google.colab.kernel.invokeFunction('convertToInteractive',\n",
              "                                                    [key], {});\n",
              "        if (!dataTable) return;\n",
              "\n",
              "        const docLinkHtml = 'Like what you see? Visit the ' +\n",
              "          '<a target=\"_blank\" href=https://colab.research.google.com/notebooks/data_table.ipynb>data table notebook</a>'\n",
              "          + ' to learn more about interactive tables.';\n",
              "        element.innerHTML = '';\n",
              "        dataTable['output_type'] = 'display_data';\n",
              "        await google.colab.output.renderOutput(dataTable, element);\n",
              "        const docLink = document.createElement('div');\n",
              "        docLink.innerHTML = docLinkHtml;\n",
              "        element.appendChild(docLink);\n",
              "      }\n",
              "    </script>\n",
              "  </div>\n",
              "\n",
              "\n",
              "    <div id=\"df-12c6019c-9493-4e34-b83d-6b14d33baa54\">\n",
              "      <button class=\"colab-df-quickchart\" onclick=\"quickchart('df-12c6019c-9493-4e34-b83d-6b14d33baa54')\"\n",
              "                title=\"Suggest charts\"\n",
              "                style=\"display:none;\">\n",
              "\n",
              "<svg xmlns=\"http://www.w3.org/2000/svg\" height=\"24px\"viewBox=\"0 0 24 24\"\n",
              "     width=\"24px\">\n",
              "    <g>\n",
              "        <path d=\"M19 3H5c-1.1 0-2 .9-2 2v14c0 1.1.9 2 2 2h14c1.1 0 2-.9 2-2V5c0-1.1-.9-2-2-2zM9 17H7v-7h2v7zm4 0h-2V7h2v10zm4 0h-2v-4h2v4z\"/>\n",
              "    </g>\n",
              "</svg>\n",
              "      </button>\n",
              "\n",
              "<style>\n",
              "  .colab-df-quickchart {\n",
              "      --bg-color: #E8F0FE;\n",
              "      --fill-color: #1967D2;\n",
              "      --hover-bg-color: #E2EBFA;\n",
              "      --hover-fill-color: #174EA6;\n",
              "      --disabled-fill-color: #AAA;\n",
              "      --disabled-bg-color: #DDD;\n",
              "  }\n",
              "\n",
              "  [theme=dark] .colab-df-quickchart {\n",
              "      --bg-color: #3B4455;\n",
              "      --fill-color: #D2E3FC;\n",
              "      --hover-bg-color: #434B5C;\n",
              "      --hover-fill-color: #FFFFFF;\n",
              "      --disabled-bg-color: #3B4455;\n",
              "      --disabled-fill-color: #666;\n",
              "  }\n",
              "\n",
              "  .colab-df-quickchart {\n",
              "    background-color: var(--bg-color);\n",
              "    border: none;\n",
              "    border-radius: 50%;\n",
              "    cursor: pointer;\n",
              "    display: none;\n",
              "    fill: var(--fill-color);\n",
              "    height: 32px;\n",
              "    padding: 0;\n",
              "    width: 32px;\n",
              "  }\n",
              "\n",
              "  .colab-df-quickchart:hover {\n",
              "    background-color: var(--hover-bg-color);\n",
              "    box-shadow: 0 1px 2px rgba(60, 64, 67, 0.3), 0 1px 3px 1px rgba(60, 64, 67, 0.15);\n",
              "    fill: var(--button-hover-fill-color);\n",
              "  }\n",
              "\n",
              "  .colab-df-quickchart-complete:disabled,\n",
              "  .colab-df-quickchart-complete:disabled:hover {\n",
              "    background-color: var(--disabled-bg-color);\n",
              "    fill: var(--disabled-fill-color);\n",
              "    box-shadow: none;\n",
              "  }\n",
              "\n",
              "  .colab-df-spinner {\n",
              "    border: 2px solid var(--fill-color);\n",
              "    border-color: transparent;\n",
              "    border-bottom-color: var(--fill-color);\n",
              "    animation:\n",
              "      spin 1s steps(1) infinite;\n",
              "  }\n",
              "\n",
              "  @keyframes spin {\n",
              "    0% {\n",
              "      border-color: transparent;\n",
              "      border-bottom-color: var(--fill-color);\n",
              "      border-left-color: var(--fill-color);\n",
              "    }\n",
              "    20% {\n",
              "      border-color: transparent;\n",
              "      border-left-color: var(--fill-color);\n",
              "      border-top-color: var(--fill-color);\n",
              "    }\n",
              "    30% {\n",
              "      border-color: transparent;\n",
              "      border-left-color: var(--fill-color);\n",
              "      border-top-color: var(--fill-color);\n",
              "      border-right-color: var(--fill-color);\n",
              "    }\n",
              "    40% {\n",
              "      border-color: transparent;\n",
              "      border-right-color: var(--fill-color);\n",
              "      border-top-color: var(--fill-color);\n",
              "    }\n",
              "    60% {\n",
              "      border-color: transparent;\n",
              "      border-right-color: var(--fill-color);\n",
              "    }\n",
              "    80% {\n",
              "      border-color: transparent;\n",
              "      border-right-color: var(--fill-color);\n",
              "      border-bottom-color: var(--fill-color);\n",
              "    }\n",
              "    90% {\n",
              "      border-color: transparent;\n",
              "      border-bottom-color: var(--fill-color);\n",
              "    }\n",
              "  }\n",
              "</style>\n",
              "\n",
              "      <script>\n",
              "        async function quickchart(key) {\n",
              "          const quickchartButtonEl =\n",
              "            document.querySelector('#' + key + ' button');\n",
              "          quickchartButtonEl.disabled = true;  // To prevent multiple clicks.\n",
              "          quickchartButtonEl.classList.add('colab-df-spinner');\n",
              "          try {\n",
              "            const charts = await google.colab.kernel.invokeFunction(\n",
              "                'suggestCharts', [key], {});\n",
              "          } catch (error) {\n",
              "            console.error('Error during call to suggestCharts:', error);\n",
              "          }\n",
              "          quickchartButtonEl.classList.remove('colab-df-spinner');\n",
              "          quickchartButtonEl.classList.add('colab-df-quickchart-complete');\n",
              "        }\n",
              "        (() => {\n",
              "          let quickchartButtonEl =\n",
              "            document.querySelector('#df-12c6019c-9493-4e34-b83d-6b14d33baa54 button');\n",
              "          quickchartButtonEl.style.display =\n",
              "            google.colab.kernel.accessAllowed ? 'block' : 'none';\n",
              "        })();\n",
              "      </script>\n",
              "    </div>\n",
              "\n",
              "    </div>\n",
              "  </div>\n"
            ],
            "application/vnd.google.colaboratory.intrinsic+json": {
              "type": "dataframe",
              "summary": "{\n  \"name\": \"recommend_books_cf(user_sample)\",\n  \"rows\": 5,\n  \"fields\": [\n    {\n      \"column\": \"Book-Title\",\n      \"properties\": {\n        \"dtype\": \"string\",\n        \"num_unique_values\": 5,\n        \"samples\": [\n          \"Harry Potter and the Chamber of Secrets Postcard Book\",\n          \"Lonesome Dove\",\n          \"Dilbert: A Book of Postcards\"\n        ],\n        \"semantic_type\": \"\",\n        \"description\": \"\"\n      }\n    },\n    {\n      \"column\": \"Book-Author\",\n      \"properties\": {\n        \"dtype\": \"string\",\n        \"num_unique_values\": 5,\n        \"samples\": [\n          \"J. K. Rowling\",\n          \"Larry McMurtry\",\n          \"Scott Adams\"\n        ],\n        \"semantic_type\": \"\",\n        \"description\": \"\"\n      }\n    },\n    {\n      \"column\": \"Predicted Rating\",\n      \"properties\": {\n        \"dtype\": \"number\",\n        \"std\": 0.04571604289738521,\n        \"min\": 9.087445208107916,\n        \"max\": 9.201055985330518,\n        \"num_unique_values\": 5,\n        \"samples\": [\n          9.127903784058466,\n          9.087445208107916,\n          9.114887215206931\n        ],\n        \"semantic_type\": \"\",\n        \"description\": \"\"\n      }\n    }\n  ]\n}"
            }
          },
          "metadata": {},
          "execution_count": 33
        }
      ]
    },
    {
      "cell_type": "markdown",
      "source": [
        "NOTE :\n",
        "pada reviewer sebelumnya menolak laporan saya karena user-id is not defined, tapi terbukti disini bahwa user-id ada pada dataset rating_filtered."
      ],
      "metadata": {
        "id": "37Afl29KPzeW"
      }
    },
    {
      "cell_type": "code",
      "source": [
        "print(ratings_filtered.columns)"
      ],
      "metadata": {
        "colab": {
          "base_uri": "https://localhost:8080/"
        },
        "id": "b-achvia1GKq",
        "outputId": "d8909769-e78c-40ab-da24-25f1d84181dd"
      },
      "execution_count": 34,
      "outputs": [
        {
          "output_type": "stream",
          "name": "stdout",
          "text": [
            "Index(['User-ID', 'ISBN', 'Book-Rating'], dtype='object')\n"
          ]
        }
      ]
    }
  ]
}